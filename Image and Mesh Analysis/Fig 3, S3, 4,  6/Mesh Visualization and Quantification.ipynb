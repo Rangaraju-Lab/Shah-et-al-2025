{
 "cells": [
  {
   "cell_type": "markdown",
   "id": "94cead81-f8fb-4af2-ba5d-549965700738",
   "metadata": {},
   "source": [
    "### 3D Mesh Processing and Cristae Surface Extraction\n",
    "Loads mitochondrial meshes, cleans them, and extracts cristae membranes with curvature mapping:\n",
    "\n",
    "1. **Bounding box (BB):** Defines the 3-D region of interest.\n",
    "2. **IBM/OMM cleanup:** Intersects IBM and OMM with BB and removes faces within 5 nm, yielding **IBS** and **OMS**.\n",
    "3. **IMM curvature:** Loads IMM and attaches curvature values from *smooth_k1*.\n",
    "4. **Cristae membrane (CMS):** Removes IMM faces within 5 nm of BB and 8 nm of IBS while preserving curvature.\n",
    "5. **High-curvature regions:** Segments CMS vertices with curvature >80 µm⁻¹.\n",
    "6. **Outputs:** Prints mitochondrial volume, total cristae area, high-curvature area, and shows curvature-colored 3-D visualizations.\n"
   ]
  },
  {
   "cell_type": "code",
   "execution_count": 1,
   "id": "e95dc77e-4b32-4667-8c38-2a7236fb28e6",
   "metadata": {},
   "outputs": [
    {
     "name": "stdout",
     "output_type": "stream",
     "text": [
      "Mito volume: 0.047 µm³\n",
      "Cristae surface area: 0.653 µm²\n",
      "High-curvature surface area: 0.229 µm²\n"
     ]
    },
    {
     "data": {
      "application/vnd.jupyter.widget-view+json": {
       "model_id": "b85405255e974847b0f80dac9d57090d",
       "version_major": 2,
       "version_minor": 0
      },
      "text/plain": [
       "Widget(value='<iframe src=\"http://localhost:60356/index.html?ui=P_0x1d388ef8dd0_0&reconnect=auto\" class=\"pyvis…"
      ]
     },
     "metadata": {},
     "output_type": "display_data"
    },
    {
     "data": {
      "application/vnd.jupyter.widget-view+json": {
       "model_id": "220b8ba0597d40dc9fb73498ae92c1b6",
       "version_major": 2,
       "version_minor": 0
      },
      "text/plain": [
       "Widget(value='<iframe src=\"http://localhost:60356/index.html?ui=P_0x1d38c769390_1&reconnect=auto\" class=\"pyvis…"
      ]
     },
     "metadata": {},
     "output_type": "display_data"
    }
   ],
   "source": [
    "from MeshOperations3D import process, visualize\n",
    "import os\n",
    "#import numpy as np\n",
    "import pyvista as pv\n",
    "import trimesh\n",
    "# ==============================================================\n",
    "# === Processing Pipeline\n",
    "# ==============================================================\n",
    "base_dir = r\"./Demo Images and Meshes/control 4\"\n",
    "\n",
    "# --- 1. Load and prep bounding box mesh\n",
    "BB = process.pyvista_to_trimesh(pv.read(os.path.join(base_dir, \"BB_remeshed.stl\")))\n",
    "\n",
    "# --- 2. IBM preprocessing: boolean intersect + cleanup\n",
    "IBM = process.pyvista_to_trimesh(pv.read(os.path.join(base_dir, \"IBM_remeshed.stl\")))\n",
    "IBM = trimesh.boolean.intersection([IBM, BB], engine=\"manifold\")\n",
    "IBS = process.remove_close_faces(IBM, BB, threshold=0.005)\n",
    "\n",
    "# --- 3. OMM preprocessing: boolean intersect + cleanup\n",
    "OMM = process.pyvista_to_trimesh(pv.read(os.path.join(base_dir, \"OMM_remeshed.stl\")))\n",
    "OMM = trimesh.boolean.intersection([OMM, BB], engine=\"manifold\")\n",
    "OMS = process.remove_close_faces(OMM, BB, threshold=0.005)\n",
    "\n",
    "# --- 4. IMM mesh and curvature\n",
    "IMM_pv = pv.read(os.path.join(base_dir, \"IMM.stl\"))\n",
    "BB_pv = pv.read(os.path.join(base_dir, \"BB_remeshed.stl\"))  \n",
    "data_array = process.load_pickle(os.path.join(base_dir, \"smooth_k1\"))[0]\n",
    "IMM_pv.point_data['Curvature'] = data_array\n",
    "\n",
    "# --- 5. Clean IMM against BB and IBS\n",
    "CMS, new_curvature = process.remove_close_faces_with_curvature_pv(IMM_pv, BB_pv, threshold=0.005)\n",
    "IBS_pv = process.trimesh_to_pyvista(IBS)\n",
    "CMS, new_curvature = process.remove_close_faces_with_curvature_pv(CMS, IBS_pv, threshold=0.008)\n",
    "\n",
    "# --- 6. Separate high-curvature surface\n",
    "CMS_high_pv, CMS_low_pv = process.separate_high_curvature_mesh(CMS, new_curvature, 80)\n",
    "print(f\"Mito volume: {OMM.volume:.3f} µm³\" if OMM else \"Mito volume: 0 µm³\")\n",
    "print(f\"Cristae surface area: {CMS.area:.3f} µm²\" if CMS else \"Cristae surface area: 0 µm²\")\n",
    "print(f\"High-curvature surface area: {CMS_high_pv.area:.3f} µm²\" if CMS_high_pv else \"High-curvature surface area: 0 µm²\")\n",
    "\n",
    "\n",
    "# --- 7. Visualize results\n",
    "visualize.display_cristae(OMS, IBS, CMS, new_curvature, threshold=0, smoothing_sigma=1)\n",
    "visualize.display_curvature_colored_meshes(OMS, IBS_pv, CMS, new_curvature,\n",
    "                                 min_val=0, max_val=80, smoothing_sigma=0.1)"
   ]
  },
  {
   "cell_type": "markdown",
   "id": "26b63a25-ceca-4123-9fab-c1415652f242",
   "metadata": {},
   "source": [
    "### Cristae Junction Detection and Quantification\n",
    "Identifies and measures cristae junctions within the mitochondrial inner membrane:\n",
    "\n",
    "1. **Cleanup:** Removes IMM and IBM faces near the bounding box and splits IMM into **CMS_tr** (cristae) and **IBS_tr** (inner boundary).\n",
    "2. **Junction detection:** Finds shared edges between CMS_tr and IBS_tr and filters valid junction centroids.\n",
    "3. **Metrics:** Computes the total number of cristae junctions and their density (per µm³ of OMM).\n",
    "4. **Visualization:** Renders OMS, IBS_tr, CMS_tr, and detected junction centroids in 3-D.\n"
   ]
  },
  {
   "cell_type": "code",
   "execution_count": 2,
   "id": "5003068e-8818-4811-8cf8-7da08e38f3d1",
   "metadata": {},
   "outputs": [
    {
     "name": "stdout",
     "output_type": "stream",
     "text": [
      "Cristae junctions: 44\n",
      "Cristae junction density: 937.4523454934332 per µm³\n"
     ]
    },
    {
     "data": {
      "application/vnd.jupyter.widget-view+json": {
       "model_id": "4a6032c6a4374153880c9a659ab7541d",
       "version_major": 2,
       "version_minor": 0
      },
      "text/plain": [
       "Widget(value='<iframe src=\"http://localhost:60356/index.html?ui=P_0x1d38c59d5d0_2&reconnect=auto\" class=\"pyvis…"
      ]
     },
     "metadata": {},
     "output_type": "display_data"
    }
   ],
   "source": [
    "import numpy as np\n",
    "# --- Cristae junction analysis ---\n",
    "IMM = process.pyvista_to_trimesh(IMM_pv)\n",
    "IMM = process.remove_close_faces(IMM, BB, threshold=0.005)\n",
    "\n",
    "IB_tr = process.remove_close_faces(IBM, BB, threshold=0.005)\n",
    "CMS_tr, IBS_tr = process.separate_close_faces(IMM, IB_tr, threshold=0.008)\n",
    "\n",
    "edge_actor, centroids, centroid_actor = process.shared_edge_junctions(CMS_tr, IBS_tr)\n",
    "refined_centroids, refined_centroid_actor = process.filter_junctions(CMS_tr, np.array(centroids))\n",
    "\n",
    "# Cristae junction metrics\n",
    "cristae_junction_count   = len(refined_centroids)\n",
    "cristae_junction_density = cristae_junction_count / OMM.volume  # per µm³\n",
    "\n",
    "print(f\"Cristae junctions: {cristae_junction_count}\")\n",
    "print(f\"Cristae junction density: {cristae_junction_density} per µm³\")\n",
    "\n",
    "# Visualization\n",
    "visualize.display_junctions(OMS, IBS_tr, CMS_tr, refined_centroids)"
   ]
  },
  {
   "cell_type": "markdown",
   "id": "df28e454-0d93-4b20-8e7b-f4bb2653413c",
   "metadata": {},
   "source": [
    "### ER–Mitochondria Contacts and Ribosome Segmentation\n",
    "Processes endoplasmic reticulum (ER) and ribosome meshes to map ER–mitochondria contacts and nearby ribosomes:\n",
    "\n",
    "1. **Mesh cleanup:** Intersects ER and ribosome meshes with the bounding box (BB) and removes faces within 5 nm.  \n",
    "2. **ERMCS extraction:** Isolates ER faces within 20 nm of the OMM to define **ER–mitochondria contact sites (ERMCS)**.  \n",
    "3. **Ribosome proximity:** Separates ribosome faces within 10 nm of the OMM (**Ribo_near**).  \n",
    "4. **Outputs:** Prints ERMCS and total ER surface areas (µm²) and displays a 3-D visualization of OMS, IBS, CMS, ER, ERMCS, and ribosomes.\n"
   ]
  },
  {
   "cell_type": "code",
   "execution_count": 3,
   "id": "22e9c8c8-1f47-41ff-8bda-4e461bbc3a91",
   "metadata": {},
   "outputs": [
    {
     "name": "stdout",
     "output_type": "stream",
     "text": [
      "ERMCS surface area: 0.055 µm²\n",
      "ER surface area: 0.195 µm²\n"
     ]
    },
    {
     "data": {
      "application/vnd.jupyter.widget-view+json": {
       "model_id": "cf2f0662b20044da8efb2d5a576ca7db",
       "version_major": 2,
       "version_minor": 0
      },
      "text/plain": [
       "Widget(value='<iframe src=\"http://localhost:60356/index.html?ui=P_0x1d3be789c50_3&reconnect=auto\" class=\"pyvis…"
      ]
     },
     "metadata": {},
     "output_type": "display_data"
    }
   ],
   "source": [
    "\n",
    "# Load ER and Ribosome meshes\n",
    "ER = process.pyvista_to_trimesh(pv.read(os.path.join(base_dir, \"ER_remeshed.stl\")))\n",
    "Ribo = process.pyvista_to_trimesh(pv.read(os.path.join(base_dir, \"Ribo_remeshed.stl\")))\n",
    "\n",
    "# Boolean operations & cleanup\n",
    "ER = trimesh.boolean.intersection([ER, BB], engine=\"manifold\")\n",
    "Ribo = trimesh.boolean.intersection([Ribo, BB], engine=\"manifold\")\n",
    "\n",
    "ER = process.remove_close_faces(ER, BB, threshold=0.005)\n",
    "ER, ERMCS = process.separate_close_faces(ER, OMM, threshold=0.02) #ERMCS = ER within 20 nm of OMM\n",
    "Ribo_far, Ribo_near = process.separate_close_faces(Ribo, OMM, threshold=0.01)\n",
    "\n",
    "print(f\"ERMCS surface area: {ERMCS.area:.3f} µm²\" if ERMCS else \"ERMCS surface area: 0 µm²\")\n",
    "print(f\"ER surface area: {ER.area:.3f} µm²\" if ER else \"ER surface area: 0 µm²\")\n",
    "\n",
    "\n",
    "# Visualization\n",
    "visualize.display_all(OMS, IBS, CMS, ER, ERMCS, Ribo,\n",
    "            new_curvature, threshold=0, smoothing_sigma=1)\n"
   ]
  },
  {
   "cell_type": "markdown",
   "id": "3f43ded7-876b-41ca-8411-984a701a7e97",
   "metadata": {},
   "source": [
    "### Ribosome Clustering and Proximity Analysis\n",
    "Identifies and analyzes ribosome clusters near mitochondria:\n",
    "\n",
    "1. **Cluster merging:** Splits the ribosome mesh into connected components and merges those closer than 20 nm to form **ribosome clusters**.  \n",
    "2. **Visualization:** Displays OMS, IBS, CMS, ER, ERMCS, and all ribosome clusters with CMS curvature overlay.  \n",
    "3. **Proximity analysis:** Computes each cluster’s minimum surface distance and centroid distance to the OMS and reports ribosome volumes and OMS surface area (all in nm-based units).\n"
   ]
  },
  {
   "cell_type": "code",
   "execution_count": 4,
   "id": "66a65b6e-d669-4a33-bdf7-3ddf7cc6b21c",
   "metadata": {},
   "outputs": [
    {
     "name": "stdout",
     "output_type": "stream",
     "text": [
      "Final ribosome components after merging: 8\n"
     ]
    },
    {
     "data": {
      "application/vnd.jupyter.widget-view+json": {
       "model_id": "bb2aaf8488554d409aa3f6b178eb46d7",
       "version_major": 2,
       "version_minor": 0
      },
      "text/plain": [
       "Widget(value='<iframe src=\"http://localhost:60356/index.html?ui=P_0x1d400510710_4&reconnect=auto\" class=\"pyvis…"
      ]
     },
     "metadata": {},
     "output_type": "display_data"
    },
    {
     "name": "stdout",
     "output_type": "stream",
     "text": [
      "Analyzed 8 clusters.\n"
     ]
    },
    {
     "data": {
      "text/html": [
       "<div>\n",
       "<style scoped>\n",
       "    .dataframe tbody tr th:only-of-type {\n",
       "        vertical-align: middle;\n",
       "    }\n",
       "\n",
       "    .dataframe tbody tr th {\n",
       "        vertical-align: top;\n",
       "    }\n",
       "\n",
       "    .dataframe thead th {\n",
       "        text-align: right;\n",
       "    }\n",
       "</style>\n",
       "<table border=\"1\" class=\"dataframe\">\n",
       "  <thead>\n",
       "    <tr style=\"text-align: right;\">\n",
       "      <th></th>\n",
       "      <th>Ribosome_ID</th>\n",
       "      <th>Min_Surface_Distance</th>\n",
       "      <th>Centroid_Distance</th>\n",
       "      <th>Ribosome_Volume</th>\n",
       "      <th>OMS_Surface_Area</th>\n",
       "    </tr>\n",
       "  </thead>\n",
       "  <tbody>\n",
       "    <tr>\n",
       "      <th>0</th>\n",
       "      <td>1</td>\n",
       "      <td>515.383789</td>\n",
       "      <td>557.398887</td>\n",
       "      <td>22899.874100</td>\n",
       "      <td>530471.799492</td>\n",
       "    </tr>\n",
       "    <tr>\n",
       "      <th>1</th>\n",
       "      <td>2</td>\n",
       "      <td>94.734729</td>\n",
       "      <td>120.574030</td>\n",
       "      <td>17683.743512</td>\n",
       "      <td>530471.799492</td>\n",
       "    </tr>\n",
       "    <tr>\n",
       "      <th>2</th>\n",
       "      <td>3</td>\n",
       "      <td>280.261235</td>\n",
       "      <td>336.042395</td>\n",
       "      <td>43013.547727</td>\n",
       "      <td>530471.799492</td>\n",
       "    </tr>\n",
       "    <tr>\n",
       "      <th>3</th>\n",
       "      <td>4</td>\n",
       "      <td>245.742477</td>\n",
       "      <td>259.431945</td>\n",
       "      <td>5430.790518</td>\n",
       "      <td>530471.799492</td>\n",
       "    </tr>\n",
       "    <tr>\n",
       "      <th>4</th>\n",
       "      <td>5</td>\n",
       "      <td>68.213990</td>\n",
       "      <td>95.796409</td>\n",
       "      <td>35787.821331</td>\n",
       "      <td>530471.799492</td>\n",
       "    </tr>\n",
       "    <tr>\n",
       "      <th>5</th>\n",
       "      <td>6</td>\n",
       "      <td>73.631520</td>\n",
       "      <td>94.088799</td>\n",
       "      <td>15078.875075</td>\n",
       "      <td>530471.799492</td>\n",
       "    </tr>\n",
       "    <tr>\n",
       "      <th>6</th>\n",
       "      <td>7</td>\n",
       "      <td>0.055291</td>\n",
       "      <td>15.640620</td>\n",
       "      <td>19281.406922</td>\n",
       "      <td>530471.799492</td>\n",
       "    </tr>\n",
       "    <tr>\n",
       "      <th>7</th>\n",
       "      <td>8</td>\n",
       "      <td>111.912936</td>\n",
       "      <td>127.307589</td>\n",
       "      <td>11158.910727</td>\n",
       "      <td>530471.799492</td>\n",
       "    </tr>\n",
       "  </tbody>\n",
       "</table>\n",
       "</div>"
      ],
      "text/plain": [
       "   Ribosome_ID  Min_Surface_Distance  Centroid_Distance  Ribosome_Volume  \\\n",
       "0            1            515.383789         557.398887     22899.874100   \n",
       "1            2             94.734729         120.574030     17683.743512   \n",
       "2            3            280.261235         336.042395     43013.547727   \n",
       "3            4            245.742477         259.431945      5430.790518   \n",
       "4            5             68.213990          95.796409     35787.821331   \n",
       "5            6             73.631520          94.088799     15078.875075   \n",
       "6            7              0.055291          15.640620     19281.406922   \n",
       "7            8            111.912936         127.307589     11158.910727   \n",
       "\n",
       "   OMS_Surface_Area  \n",
       "0     530471.799492  \n",
       "1     530471.799492  \n",
       "2     530471.799492  \n",
       "3     530471.799492  \n",
       "4     530471.799492  \n",
       "5     530471.799492  \n",
       "6     530471.799492  \n",
       "7     530471.799492  "
      ]
     },
     "execution_count": 4,
     "metadata": {},
     "output_type": "execute_result"
    }
   ],
   "source": [
    "# Convert your Trimesh ribosome mesh to PyVista clusters\n",
    "ribosome_clusters = process.separate_ribosomes_with_merge(Ribo)\n",
    "# Show clusters with other meshes\n",
    "visualize.display_ribosome_clusters(OMS, IBS, CMS, ER, ERMCS, ribosome_clusters,\n",
    "                                   new_curvature, threshold=80,\n",
    "                                   smooth_boundaries=False, smoothing_sigma=1.0)\n",
    "# Analyze vs OMS\n",
    "process.analyze_ribosomes_vs_OMS(ribosome_clusters, OMS)"
   ]
  }
 ],
 "metadata": {
  "kernelspec": {
   "display_name": "Python 3 (ipykernel)",
   "language": "python",
   "name": "python3"
  },
  "language_info": {
   "codemirror_mode": {
    "name": "ipython",
    "version": 3
   },
   "file_extension": ".py",
   "mimetype": "text/x-python",
   "name": "python",
   "nbconvert_exporter": "python",
   "pygments_lexer": "ipython3",
   "version": "3.11.3"
  }
 },
 "nbformat": 4,
 "nbformat_minor": 5
}
