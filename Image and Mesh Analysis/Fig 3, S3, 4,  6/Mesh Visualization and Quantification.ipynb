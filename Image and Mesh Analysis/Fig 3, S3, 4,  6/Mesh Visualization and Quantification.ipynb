{
 "cells": [
  {
   "cell_type": "markdown",
   "id": "94cead81-f8fb-4af2-ba5d-549965700738",
   "metadata": {},
   "source": [
    "### 3D Mesh Processing and Cristae Surface Extraction\n",
    "Loads mitochondrial meshes, cleans them, and extracts cristae membranes with curvature mapping:\n",
    "\n",
    "1. **Bounding box (BB):** Defines the 3-D region of interest.\n",
    "2. **IBM/OMM cleanup:** Intersects IBM and OMM with BB and removes faces within 5 nm, yielding **IBS** and **OMS**.\n",
    "3. **IMM curvature:** Loads IMM and attaches curvature values from *smooth_k1*.\n",
    "4. **Cristae membrane (CMS):** Removes IMM faces within 5 nm of BB and 8 nm of IBS while preserving curvature.\n",
    "5. **High-curvature regions:** Segments CMS vertices with curvature >80 µm⁻¹.\n",
    "6. **Outputs:** Prints mitochondrial volume, total cristae area, high-curvature area, and shows curvature-colored 3-D visualizations.\n"
   ]
  },
  {
   "cell_type": "code",
   "execution_count": null,
   "id": "e95dc77e-4b32-4667-8c38-2a7236fb28e6",
   "metadata": {},
   "outputs": [],
   "source": [
    "from MeshOperations3D import process, visualize\n",
    "import os\n",
    "#import numpy as np\n",
    "import pyvista as pv\n",
    "import trimesh\n",
    "# ==============================================================\n",
    "# === Processing Pipeline\n",
    "# ==============================================================\n",
    "base_dir = r\"./Demo Images and Meshes/control 4\"\n",
    "\n",
    "# --- 1. Load and prep bounding box mesh\n",
    "BB = process.pyvista_to_trimesh(pv.read(os.path.join(base_dir, \"BB_remeshed.stl\")))\n",
    "\n",
    "# --- 2. IBM preprocessing: boolean intersect + cleanup\n",
    "IBM = process.pyvista_to_trimesh(pv.read(os.path.join(base_dir, \"IBM_remeshed.stl\")))\n",
    "IBM = trimesh.boolean.intersection([IBM, BB], engine=\"manifold\")\n",
    "IBS = process.remove_close_faces(IBM, BB, threshold=0.005)\n",
    "\n",
    "# --- 3. OMM preprocessing: boolean intersect + cleanup\n",
    "OMM = process.pyvista_to_trimesh(pv.read(os.path.join(base_dir, \"OMM_remeshed.stl\")))\n",
    "OMM = trimesh.boolean.intersection([OMM, BB], engine=\"manifold\")\n",
    "OMS = process.remove_close_faces(OMM, BB, threshold=0.005)\n",
    "\n",
    "# --- 4. IMM mesh and curvature\n",
    "IMM_pv = pv.read(os.path.join(base_dir, \"IMM.stl\"))\n",
    "BB_pv = pv.read(os.path.join(base_dir, \"BB_remeshed.stl\"))  \n",
    "data_array = process.load_pickle(os.path.join(base_dir, \"smooth_k1\"))[0]\n",
    "IMM_pv.point_data['Curvature'] = data_array\n",
    "\n",
    "# --- 5. Clean IMM against BB and IBS\n",
    "CMS, new_curvature = process.remove_close_faces_with_curvature_pv(IMM_pv, BB_pv, threshold=0.005)\n",
    "IBS_pv = process.trimesh_to_pyvista(IBS)\n",
    "CMS, new_curvature = process.remove_close_faces_with_curvature_pv(CMS, IBS_pv, threshold=0.008)\n",
    "\n",
    "# --- 6. Separate high-curvature surface\n",
    "CMS_high_pv, CMS_low_pv = process.separate_high_curvature_mesh(CMS, new_curvature, 80)\n",
    "print(f\"Mito volume: {OMM.volume:.3f} µm³\" if OMM else \"Mito volume: 0 µm³\")\n",
    "print(f\"Cristae surface area: {CMS.area:.3f} µm²\" if CMS else \"Cristae surface area: 0 µm²\")\n",
    "print(f\"High-curvature surface area: {CMS_high_pv.area:.3f} µm²\" if CMS_high_pv else \"High-curvature surface area: 0 µm²\")\n",
    "\n",
    "\n",
    "# --- 7. Visualize results\n",
    "visualize.display_cristae(OMS, IBS, CMS, new_curvature, threshold=0, smoothing_sigma=1)\n",
    "visualize.display_curvature_colored_meshes(OMS, IBS_pv, CMS, new_curvature,\n",
    "                                 min_val=0, max_val=80, smoothing_sigma=0.1)"
   ]
  },
  {
   "cell_type": "markdown",
   "id": "26b63a25-ceca-4123-9fab-c1415652f242",
   "metadata": {},
   "source": [
    "### Cristae Junction Detection and Quantification\n",
    "Identifies and measures cristae junctions within the mitochondrial inner membrane:\n",
    "\n",
    "1. **Cleanup:** Removes IMM and IBM faces near the bounding box and splits IMM into **CMS_tr** (cristae) and **IBS_tr** (inner boundary).\n",
    "2. **Junction detection:** Finds shared edges between CMS_tr and IBS_tr and filters valid junction centroids.\n",
    "3. **Metrics:** Computes the total number of cristae junctions and their density (per µm³ of OMM).\n",
    "4. **Visualization:** Renders OMS, IBS_tr, CMS_tr, and detected junction centroids in 3-D.\n"
   ]
  },
  {
   "cell_type": "code",
   "execution_count": null,
   "id": "5003068e-8818-4811-8cf8-7da08e38f3d1",
   "metadata": {},
   "outputs": [],
   "source": [
    "import numpy as np\n",
    "# --- Cristae junction analysis ---\n",
    "IMM = process.pyvista_to_trimesh(IMM_pv)\n",
    "IMM = process.remove_close_faces(IMM, BB, threshold=0.005)\n",
    "\n",
    "IB_tr = process.remove_close_faces(IBM, BB, threshold=0.005)\n",
    "CMS_tr, IBS_tr = process.separate_close_faces(IMM, IB_tr, threshold=0.008)\n",
    "\n",
    "edge_actor, centroids, centroid_actor = process.shared_edge_junctions(CMS_tr, IBS_tr)\n",
    "refined_centroids, refined_centroid_actor = process.filter_junctions(CMS_tr, np.array(centroids))\n",
    "\n",
    "# Cristae junction metrics\n",
    "cristae_junction_count   = len(refined_centroids)\n",
    "cristae_junction_density = cristae_junction_count / OMM.volume  # per µm³\n",
    "\n",
    "print(f\"Cristae junctions: {cristae_junction_count}\")\n",
    "print(f\"Cristae junction density: {cristae_junction_density} per µm³\")\n",
    "\n",
    "# Visualization\n",
    "visualize.display_junctions(OMS, IBS_tr, CMS_tr, refined_centroids)"
   ]
  },
  {
   "cell_type": "markdown",
   "id": "df28e454-0d93-4b20-8e7b-f4bb2653413c",
   "metadata": {},
   "source": [
    "### ER–Mitochondria Contacts and Ribosome Segmentation\n",
    "Processes endoplasmic reticulum (ER) and ribosome meshes to map ER–mitochondria contacts and nearby ribosomes:\n",
    "\n",
    "1. **Mesh cleanup:** Intersects ER and ribosome meshes with the bounding box (BB) and removes faces within 5 nm.  \n",
    "2. **ERMCS extraction:** Isolates ER faces within 20 nm of the OMM to define **ER–mitochondria contact sites (ERMCS)**.  \n",
    "3. **Ribosome proximity:** Separates ribosome faces within 10 nm of the OMM (**Ribo_near**).  \n",
    "4. **Outputs:** Prints ERMCS and total ER surface areas (µm²) and displays a 3-D visualization of OMS, IBS, CMS, ER, ERMCS, and ribosomes.\n"
   ]
  },
  {
   "cell_type": "code",
   "execution_count": null,
   "id": "22e9c8c8-1f47-41ff-8bda-4e461bbc3a91",
   "metadata": {},
   "outputs": [],
   "source": [
    "\n",
    "# Load ER and Ribosome meshes\n",
    "ER = process.pyvista_to_trimesh(pv.read(os.path.join(base_dir, \"ER_remeshed.stl\")))\n",
    "Ribo = process.pyvista_to_trimesh(pv.read(os.path.join(base_dir, \"Ribo_remeshed.stl\")))\n",
    "\n",
    "# Boolean operations & cleanup\n",
    "ER = trimesh.boolean.intersection([ER, BB], engine=\"manifold\")\n",
    "Ribo = trimesh.boolean.intersection([Ribo, BB], engine=\"manifold\")\n",
    "\n",
    "ER = process.remove_close_faces(ER, BB, threshold=0.005)\n",
    "ER, ERMCS = process.separate_close_faces(ER, OMM, threshold=0.02) #ERMCS = ER within 20 nm of OMM\n",
    "Ribo_far, Ribo_near = process.separate_close_faces(Ribo, OMM, threshold=0.01)\n",
    "\n",
    "print(f\"ERMCS surface area: {ERMCS.area:.3f} µm²\" if ERMCS else \"ERMCS surface area: 0 µm²\")\n",
    "print(f\"ER surface area: {ER.area:.3f} µm²\" if ER else \"ER surface area: 0 µm²\")\n",
    "\n",
    "\n",
    "# Visualization\n",
    "visualize.display_all(OMS, IBS, CMS, ER, ERMCS, Ribo,\n",
    "            new_curvature, threshold=0, smoothing_sigma=1)\n"
   ]
  },
  {
   "cell_type": "markdown",
   "id": "3f43ded7-876b-41ca-8411-984a701a7e97",
   "metadata": {},
   "source": [
    "### Ribosome Clustering and Proximity Analysis\n",
    "Identifies and analyzes ribosome clusters near mitochondria:\n",
    "\n",
    "1. **Cluster merging:** Splits the ribosome mesh into connected components and merges those closer than 20 nm to form **ribosome clusters**.  \n",
    "2. **Visualization:** Displays OMS, IBS, CMS, ER, ERMCS, and all ribosome clusters with CMS curvature overlay.  \n",
    "3. **Proximity analysis:** Computes each cluster’s minimum surface distance and centroid distance to the OMS and reports ribosome volumes and OMS surface area (all in nm-based units).\n"
   ]
  },
  {
   "cell_type": "code",
   "execution_count": null,
   "id": "66a65b6e-d669-4a33-bdf7-3ddf7cc6b21c",
   "metadata": {},
   "outputs": [],
   "source": [
    "# Convert your Trimesh ribosome mesh to PyVista clusters\n",
    "ribosome_clusters = process.separate_ribosomes_with_merge(Ribo)\n",
    "# Show clusters with other meshes\n",
    "visualize.display_ribosome_clusters(OMS, IBS, CMS, ER, ERMCS, ribosome_clusters,\n",
    "                                   new_curvature, threshold=80,\n",
    "                                   smooth_boundaries=False, smoothing_sigma=1.0)\n",
    "# Analyze vs OMS\n",
    "process.analyze_ribosomes_vs_OMS(ribosome_clusters, OMS)"
   ]
  }
 ],
 "metadata": {
  "kernelspec": {
   "display_name": "Python 3 (ipykernel)",
   "language": "python",
   "name": "python3"
  },
  "language_info": {
   "codemirror_mode": {
    "name": "ipython",
    "version": 3
   },
   "file_extension": ".py",
   "mimetype": "text/x-python",
   "name": "python",
   "nbconvert_exporter": "python",
   "pygments_lexer": "ipython3",
   "version": "3.11.3"
  }
 },
 "nbformat": 4,
 "nbformat_minor": 5
}
